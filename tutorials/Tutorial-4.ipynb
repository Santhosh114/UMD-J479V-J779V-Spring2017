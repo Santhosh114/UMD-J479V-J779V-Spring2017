{
 "cells": [
  {
   "cell_type": "markdown",
   "metadata": {},
   "source": [
    "# Tutorial 4 - Basic Charting in Pandas\n",
    "The goal of this tutorial is to get you comfortable creating basic charts such as bar and line charts using pandas dataframes. Visualization is a very helpful tool for exploring and for communicating data. Things we'll cover:\n",
    "- Bar charts, histograms, line charts\n",
    "- Axes labels\n",
    "- Legends\n",
    "\n",
    "We won't cover these here, but you should be aware that there are many other visualization libraries that can be used in Jupyter notbeooks including:\n",
    "- [Bokeh](http://bokeh.pydata.org/en/latest/)\n",
    "- [Seaborn](https://github.com/mwaskom/seaborn)\n",
    "- [Plotly](https://plot.ly/python/)"
   ]
  },
  {
   "cell_type": "code",
   "execution_count": null,
   "metadata": {
    "collapsed": true
   },
   "outputs": [],
   "source": [
    "import pandas as pd"
   ]
  },
  {
   "cell_type": "markdown",
   "metadata": {},
   "source": [
    "Let's load in the 911 calls dataset that we used in Problem Set 1. Here's the [dataset](https://github.com/comp-journalism/UMD-J479V-J779V-Spring2017/blob/master/Data/911_Calls_Baltimore_11-2016.csv?raw=true) in case you need to download it again. "
   ]
  },
  {
   "cell_type": "code",
   "execution_count": null,
   "metadata": {
    "collapsed": false
   },
   "outputs": [],
   "source": [
    "calls_df = pd.read_csv(\"Data/911_Calls_Baltimore_11-2016.csv\", parse_dates=[\"callDateTime\"])"
   ]
  },
  {
   "cell_type": "markdown",
   "metadata": {},
   "source": [
    "### Charting Examples\n",
    "Pandas has plotting capabilities built-in (it's built on top of a library called Matplotlib which is ultimately more flexible). Lots more examples can be found [here](http://pandas.pydata.org/pandas-docs/stable/visualization.html). We'll examine how to do some basic analysis and charting, but first we need to import some things and set some style parameters.  "
   ]
  },
  {
   "cell_type": "code",
   "execution_count": null,
   "metadata": {
    "collapsed": false
   },
   "outputs": [],
   "source": [
    "import matplotlib\n",
    "import matplotlib.pyplot as plt\n",
    "import numpy as np\n",
    "\n",
    "# This magic function allows you to see the charts directly within the notebook. \n",
    "%matplotlib inline\n",
    "\n",
    "# This command will make the plots more attractive by adopting the common style of a different library called ggplot\n",
    "matplotlib.style.use(\"ggplot\")"
   ]
  },
  {
   "cell_type": "code",
   "execution_count": null,
   "metadata": {
    "collapsed": false
   },
   "outputs": [],
   "source": [
    "calls_df.columns"
   ]
  },
  {
   "cell_type": "markdown",
   "metadata": {},
   "source": [
    "Let's make a bar chart showing the aggregate number of calls of each type of priority. "
   ]
  },
  {
   "cell_type": "code",
   "execution_count": null,
   "metadata": {
    "collapsed": false
   },
   "outputs": [],
   "source": [
    "#Here's how we get the counts for each type of priority\n",
    "calls_df.priority.value_counts()"
   ]
  },
  {
   "cell_type": "code",
   "execution_count": null,
   "metadata": {
    "collapsed": false
   },
   "outputs": [],
   "source": [
    "# Create a bar chart plot\n",
    "calls_df.priority.value_counts().plot.bar()"
   ]
  },
  {
   "cell_type": "markdown",
   "metadata": {},
   "source": [
    "Hmmm... It's hard to read those labels vertically, so let's make a horizontal bar chart instead. "
   ]
  },
  {
   "cell_type": "code",
   "execution_count": null,
   "metadata": {
    "collapsed": false
   },
   "outputs": [],
   "source": [
    "calls_df.priority.value_counts().plot.barh()"
   ]
  },
  {
   "cell_type": "markdown",
   "metadata": {},
   "source": [
    "We can change the color of the bars if we want. But we need to create the chart a bit differently so we can give it parameters. Note in the next cell we're passing parameters to the `plot()` function, telling it the kind of plot and the color to use. Here's [the documentations](http://pandas.pydata.org/pandas-docs/stable/generated/pandas.DataFrame.plot.html) for all of the parameters that `plot()` can accept. "
   ]
  },
  {
   "cell_type": "code",
   "execution_count": null,
   "metadata": {
    "collapsed": false
   },
   "outputs": [],
   "source": [
    "calls_df.priority.value_counts().plot(kind=\"barh\", color=\"purple\")"
   ]
  },
  {
   "cell_type": "markdown",
   "metadata": {},
   "source": [
    "You can make the chart bigger with the `figsize` parameter, you can also set a title and change the font size to improve readability."
   ]
  },
  {
   "cell_type": "code",
   "execution_count": null,
   "metadata": {
    "collapsed": false
   },
   "outputs": [],
   "source": [
    "calls_df.priority.value_counts().plot(kind=\"barh\", color=\"purple\", figsize=(12,4), title=\"Number of 911 calls by priority type in Baltimore.\", fontsize=14)"
   ]
  },
  {
   "cell_type": "markdown",
   "metadata": {},
   "source": [
    "Histograms can be useful mechanisms to summarize the distribution of values. Let's create a histogram of the hour of the day when calls are made. "
   ]
  },
  {
   "cell_type": "code",
   "execution_count": null,
   "metadata": {
    "collapsed": true
   },
   "outputs": [],
   "source": [
    "# Create a new column which stores the hour of the day\n",
    "calls_df[\"hour_of_day\"] = pd.DatetimeIndex(calls_df[\"callDateTime\"]).hour"
   ]
  },
  {
   "cell_type": "code",
   "execution_count": null,
   "metadata": {
    "collapsed": false
   },
   "outputs": [],
   "source": [
    "# All of the priorities types aggregated\n",
    "calls_df.hist(column=\"hour_of_day\", bins=range(24), figsize=(16,4))"
   ]
  },
  {
   "cell_type": "markdown",
   "metadata": {},
   "source": [
    "We'd like to label each of the bins individually though. We can do that because the return value from the `hist()` function is an *axis* object that can be further manipulated to change the presentation of the chart such as adding an axis label, or specifying specific labels for tick marks. "
   ]
  },
  {
   "cell_type": "code",
   "execution_count": null,
   "metadata": {
    "collapsed": false
   },
   "outputs": [],
   "source": [
    "# All of the priorities types aggregated\n",
    "axes = calls_df.hist(column=\"hour_of_day\", bins=range(24), figsize=(16,4))\n",
    "axes[0][0].set_xticks(range(0,24))\n",
    "axes[0][0].set_xlabel(\"Hour of Day\")"
   ]
  },
  {
   "cell_type": "markdown",
   "metadata": {},
   "source": [
    "We can also break out histograms by priority type in order to compare.  "
   ]
  },
  {
   "cell_type": "code",
   "execution_count": null,
   "metadata": {
    "collapsed": false
   },
   "outputs": [],
   "source": [
    "calls_df.hist(column=\"hour_of_day\", by=\"priority\", bins=range(24), figsize=(16,8), sharey=True)"
   ]
  },
  {
   "cell_type": "code",
   "execution_count": null,
   "metadata": {
    "collapsed": true
   },
   "outputs": [],
   "source": []
  },
  {
   "cell_type": "code",
   "execution_count": null,
   "metadata": {
    "collapsed": false
   },
   "outputs": [],
   "source": [
    "calls_df.columns"
   ]
  },
  {
   "cell_type": "markdown",
   "metadata": {},
   "source": [
    "We can also just show the equivalent of the histogram as a smooth line chart. "
   ]
  },
  {
   "cell_type": "code",
   "execution_count": null,
   "metadata": {
    "collapsed": false
   },
   "outputs": [],
   "source": [
    "axes = calls_df.hour_of_day.value_counts().sort_index().plot()\n",
    "axes.set_xticks(range(0,24))\n",
    "axes.set_xlabel(\"Hour of Day\")"
   ]
  },
  {
   "cell_type": "markdown",
   "metadata": {},
   "source": [
    "... Or as an area chart."
   ]
  },
  {
   "cell_type": "code",
   "execution_count": null,
   "metadata": {
    "collapsed": false
   },
   "outputs": [],
   "source": [
    "axes = calls_df.hour_of_day.value_counts().sort_index().plot(kind=\"area\")\n",
    "axes.set_xticks(range(0,24))\n",
    "axes.set_xlabel(\"Hour of Day\")"
   ]
  },
  {
   "cell_type": "markdown",
   "metadata": {},
   "source": [
    "We can also plot different lines on the same set of axes. "
   ]
  },
  {
   "cell_type": "code",
   "execution_count": null,
   "metadata": {
    "collapsed": false
   },
   "outputs": [],
   "source": [
    "calls_df[calls_df.priority == \"Low\"].hour_of_day.value_counts().sort_index().plot()\n",
    "calls_df[calls_df.priority == \"Medium\"].hour_of_day.value_counts().sort_index().plot()\n",
    "calls_df[calls_df.priority == \"High\"].hour_of_day.value_counts().sort_index().plot()"
   ]
  },
  {
   "cell_type": "markdown",
   "metadata": {},
   "source": [
    "But then we also need a legend to differentiate what's what on the chart. "
   ]
  },
  {
   "cell_type": "code",
   "execution_count": null,
   "metadata": {
    "collapsed": false
   },
   "outputs": [],
   "source": [
    "calls_df[calls_df.priority == \"Low\"].hour_of_day.value_counts().sort_index().plot()\n",
    "calls_df[calls_df.priority == \"Medium\"].hour_of_day.value_counts().sort_index().plot()\n",
    "calls_df[calls_df.priority == \"High\"].hour_of_day.value_counts().sort_index().plot()\n",
    "plt.legend([\"Low\", \"Medium\", \"High\"], loc=\"best\")"
   ]
  },
  {
   "cell_type": "code",
   "execution_count": null,
   "metadata": {
    "collapsed": true
   },
   "outputs": [],
   "source": []
  }
 ],
 "metadata": {
  "anaconda-cloud": {},
  "kernelspec": {
   "display_name": "Python 2",
   "language": "python",
   "name": "python2"
  },
  "language_info": {
   "codemirror_mode": {
    "name": "ipython",
    "version": 2
   },
   "file_extension": ".py",
   "mimetype": "text/x-python",
   "name": "python",
   "nbconvert_exporter": "python",
   "pygments_lexer": "ipython2",
   "version": "2.7.13"
  }
 },
 "nbformat": 4,
 "nbformat_minor": 0
}
