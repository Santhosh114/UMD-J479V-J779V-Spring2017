{
 "cells": [
  {
   "cell_type": "markdown",
   "metadata": {},
   "source": [
    "# Using Tweepy for Fun and Profit"
   ]
  },
  {
   "cell_type": "markdown",
   "metadata": {},
   "source": [
    "Tweepy is a library that lets you use Twitter via Python. Here are all the docs for using it: http://tweepy.readthedocs.org/en/v3.5.0/\n",
    "\n",
    "Because Tweepy is not part of the default Anaconda distribution we need to install is separately. Run the next cell and that should download and install the library so that you can use it. \n"
   ]
  },
  {
   "cell_type": "code",
   "execution_count": 1,
   "metadata": {
    "collapsed": false
   },
   "outputs": [
    {
     "name": "stdout",
     "output_type": "stream",
     "text": [
      "Collecting tweepy\n",
      "  Using cached tweepy-3.5.0-py2.py3-none-any.whl\n",
      "Requirement already satisfied: requests>=2.4.3 in /anaconda/lib/python2.7/site-packages (from tweepy)\n",
      "Collecting requests-oauthlib>=0.4.1 (from tweepy)\n",
      "  Downloading requests_oauthlib-0.8.0-py2.py3-none-any.whl\n",
      "Requirement already satisfied: six>=1.7.3 in /anaconda/lib/python2.7/site-packages (from tweepy)\n",
      "Collecting oauthlib>=0.6.2 (from requests-oauthlib>=0.4.1->tweepy)\n",
      "Installing collected packages: oauthlib, requests-oauthlib, tweepy\n",
      "Successfully installed oauthlib-2.0.1 requests-oauthlib-0.8.0 tweepy-3.5.0\n"
     ]
    }
   ],
   "source": [
    "! pip install tweepy"
   ]
  },
  {
   "cell_type": "markdown",
   "metadata": {},
   "source": [
    "If everything worked, the next cell should execute with no errors."
   ]
  },
  {
   "cell_type": "code",
   "execution_count": 2,
   "metadata": {
    "collapsed": false
   },
   "outputs": [],
   "source": [
    "import tweepy"
   ]
  },
  {
   "cell_type": "markdown",
   "metadata": {},
   "source": [
    "Before we can really DO anything with Tweepy we need to authenticate it. Basically we need to log into Twitter with the right credentials. To create your own account and authenticate your own bot continue with the following instructions.\n",
    "\n",
    "**Create a Twitter Account**\n",
    "\n",
    "The first step to doing this is to create a Twitter account that you can use. Unless you want to pollute your own Twitter timeline (if you already use it) then you'll want to create a new account. A helpful tip from Dan Nguyen at Stanford is that it's easiest to register the new Twitter account with the email address of yournormalname+mytwitterbot@gmail.com. GMail will redirect all of those emails to your normal gmail account but Twitter thinks its a unique email address. \n",
    "\n",
    "You will also have to add a phone number to the account which is verified via text message in order to proceed to the next step. \n",
    "\n",
    "** Create a Twitter App**\n",
    "\n",
    "Follow the instructions here: [http://www.compjour.org/tutorials/getting-started-with-tweepy/](http://www.compjour.org/tutorials/getting-started-with-tweepy/) to create a Twitter app. We need to do this in order to get the necessary authentication tokens to log in to Twitter programmatically. \n",
    "\n",
    "You'll get four tokens that you need to copy into the code below. In general you should NOT publish these keys. "
   ]
  },
  {
   "cell_type": "code",
   "execution_count": null,
   "metadata": {
    "collapsed": true
   },
   "outputs": [],
   "source": [
    "CONSUMER_KEY = \"\"\n",
    "CONSUMER_SECRET = \"\"\n",
    "ACCESS_TOKEN = \"\"\n",
    "ACCESS_TOKEN_SECRET = \"\"\n",
    "\n",
    "auth = tweepy.OAuthHandler(CONSUMER_KEY, CONSUMER_SECRET)\n",
    "auth.set_access_token(ACCESS_TOKEN, ACCESS_TOKEN_SECRET)\n",
    "api = tweepy.API(auth)"
   ]
  },
  {
   "cell_type": "markdown",
   "metadata": {},
   "source": [
    "Now that we've authenticated we can use tweepy to make calls to the Twitter API. I can print out the latest 20 tweets from a given account by doing the following:"
   ]
  },
  {
   "cell_type": "code",
   "execution_count": null,
   "metadata": {
    "collapsed": false,
    "scrolled": true
   },
   "outputs": [],
   "source": [
    "tweets = api.user_timeline(\"merrillcollege\")\n",
    "for tweet in tweets:\n",
    "    print tweet.created_at, \" \", tweet.text\n",
    "    print \"\\n\""
   ]
  },
  {
   "cell_type": "markdown",
   "metadata": {},
   "source": [
    "There's lots we can do with Tweepy. The complete API documentation is here: [http://tweepy.readthedocs.org/en/v3.5.0/api.html](http://tweepy.readthedocs.org/en/v3.5.0/api.html). But it still can't do *everything* so there are some limitations. At times it's necesary to go back to the Twitter documentation itself [https://dev.twitter.com/rest/public](https://dev.twitter.com/rest/public), and there are important details to be aware of such as rate limits which affect how often an account can tweet or how many API calls it can make in a given window of time."
   ]
  },
  {
   "cell_type": "markdown",
   "metadata": {},
   "source": [
    "**Sending a tweet**"
   ]
  },
  {
   "cell_type": "code",
   "execution_count": null,
   "metadata": {
    "collapsed": false
   },
   "outputs": [],
   "source": [
    "# update_status function, if we add a in_reply_to_status_id parameter we can make the bot reply to another tweet. \n",
    "new_tweet = api.update_status(\"Hi, this is a new tweet!\")"
   ]
  },
  {
   "cell_type": "code",
   "execution_count": null,
   "metadata": {
    "collapsed": false,
    "scrolled": true
   },
   "outputs": [],
   "source": [
    "# Tweepy returns an object with metadata for the tweet we just sent. \n",
    "new_tweet"
   ]
  },
  {
   "cell_type": "markdown",
   "metadata": {},
   "source": [
    "**Get User Details**"
   ]
  },
  {
   "cell_type": "code",
   "execution_count": null,
   "metadata": {
    "collapsed": false
   },
   "outputs": [],
   "source": [
    "import json\n",
    "import pprint\n",
    "\n",
    "# get_user\n",
    "user = api.get_user(screen_name=\"merrillcollege\")\n",
    "\n",
    "# We can grab the json version of the object and print it \n",
    "pprint.pprint(user._json)"
   ]
  },
  {
   "cell_type": "code",
   "execution_count": null,
   "metadata": {
    "collapsed": false
   },
   "outputs": [],
   "source": [
    "# And we can then access individual attributes of the user\n",
    "print \"Followers:\",user.followers_count\n",
    "print \"Friends:\",user.friends_count"
   ]
  },
  {
   "cell_type": "markdown",
   "metadata": {},
   "source": [
    "**List Timeline**\n",
    "\n",
    "Can be useful if you want your bot just to pay attention to a few specific accounts."
   ]
  },
  {
   "cell_type": "code",
   "execution_count": null,
   "metadata": {
    "collapsed": false
   },
   "outputs": [],
   "source": [
    "# list_timeline\n",
    "# 1st parameter is the list owner, and 2nd is the slug\n",
    "# If you're on twitter the URL looks like: https://twitter.com/YuriEngelhardt/lists/dagstuhl-datadriven-story\n",
    "list_tweets = api.list_timeline(\"YuriEngelhardt\", \"dagstuhl-datadriven-story\", per_page=10, page=0)\n",
    "for tweet in list_tweets:\n",
    "    print tweet.created_at, \" \", tweet.text\n",
    "    print \"\\n\""
   ]
  },
  {
   "cell_type": "code",
   "execution_count": null,
   "metadata": {
    "collapsed": false
   },
   "outputs": [],
   "source": [
    "# trends_closest\n",
    "# Look up lat, long coordinates on google maps by right-clicking\n",
    "latitude = 38.987004\n",
    "longitude =  -76.948303\n",
    "nearby_locations_with_trends = api.trends_closest(latitude, longitude)\n",
    "# This gives us the nearby locations that have trending topics associated with them\n",
    "print nearby_locations_with_trends[0][\"woeid\"]\n",
    "\n",
    "# now to get the actual trends for washington\n",
    "trends = api.trends_place(nearby_locations_with_trends[0][\"woeid\"])\n",
    "pprint.pprint(trends)"
   ]
  },
  {
   "cell_type": "code",
   "execution_count": null,
   "metadata": {
    "collapsed": false,
    "scrolled": true
   },
   "outputs": [],
   "source": [
    "for t in trends[0][\"trends\"]:\n",
    "    print t[\"name\"]"
   ]
  },
  {
   "cell_type": "markdown",
   "metadata": {},
   "source": [
    "**Search**\n",
    "\n",
    "Let's search for the results of the first trend we found. You should be able to get up to 1000 results via the `count` parameter. There are ways to get more than that but you need to use the `since_id` parameter and do some custom code to keep track of ids."
   ]
  },
  {
   "cell_type": "code",
   "execution_count": null,
   "metadata": {
    "collapsed": false
   },
   "outputs": [],
   "source": [
    "# search\n",
    "trend = trends[0][\"trends\"][0]\n",
    "print trend[\"name\"]\n",
    "\n",
    "# Get the first page of 10 results\n",
    "search_result = api.search(trend[\"name\"], lang=\"en\", count=1000)\n",
    "for tweet in search_result:\n",
    "    print tweet.created_at, \" \", tweet.text\n",
    "    print \"\\n\""
   ]
  },
  {
   "cell_type": "markdown",
   "metadata": {
    "collapsed": true
   },
   "source": [
    "------\n",
    "\n",
    "**Book Bot**  \n",
    "An activity if there's time: What could we tweet that's interesting about any of the books on the NYT non-fiction list?"
   ]
  },
  {
   "cell_type": "code",
   "execution_count": null,
   "metadata": {
    "collapsed": true
   },
   "outputs": [],
   "source": [
    "import requests, json\n",
    "import pandas as pd\n",
    "url = 'http://api.nytimes.com/svc/books/v3/lists/hardcover-nonfiction.json?api-key=sample-key' \n",
    "api_response = requests.get(url).json()\n",
    "books_data = pd.read_json(json.dumps(api_response[\"results\"][\"books\"]))\n",
    "books_data"
   ]
  },
  {
   "cell_type": "code",
   "execution_count": null,
   "metadata": {
    "collapsed": true
   },
   "outputs": [],
   "source": []
  }
 ],
 "metadata": {
  "kernelspec": {
   "display_name": "Python 2",
   "language": "python",
   "name": "python2"
  },
  "language_info": {
   "codemirror_mode": {
    "name": "ipython",
    "version": 2
   },
   "file_extension": ".py",
   "mimetype": "text/x-python",
   "name": "python",
   "nbconvert_exporter": "python",
   "pygments_lexer": "ipython2",
   "version": "2.7.13"
  }
 },
 "nbformat": 4,
 "nbformat_minor": 0
}
