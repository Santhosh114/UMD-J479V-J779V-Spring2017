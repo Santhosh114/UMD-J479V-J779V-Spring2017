{
 "cells": [
  {
   "cell_type": "markdown",
   "metadata": {},
   "source": [
    "# Assignment 1 - Automated News Writing\n",
    "\n",
    "This skeleton notebook offers some helper functions and some example template writing code that you may find helpful to producing and testing your automated story writing algorithm. \n",
    "\n",
    "The data for this assignment can be [downloaded here](https://github.com/comp-journalism/UMD-J479V-J779V-Spring2017/raw/master/Data/fatal-police-shootings-2015-16.csv). It contains fatal police shootings tracked by the Washington Post, but has been filtered to include only data from 2015 and 2016. More context on the original dataset can be found [here](https://github.com/washingtonpost/data-police-shootings) and on the methodology [here](https://www.washingtonpost.com/national/how-the-washington-post-is-examining-police-shootings-in-the-united-states/2016/07/07/d9c52238-43ad-11e6-8856-f26de2537a9d_story.html?utm_term=.9583e14255cc#comments)\n",
    "\n",
    "The data includes the following fields: \n",
    "- id\n",
    "- name\n",
    "- date (in format YYYY-MM-DD)\n",
    "- manner_of_death (i.e., \"shot\")\n",
    "- armed (i.e., unarmed or what type of weapon)\n",
    "- age\n",
    "- gender (\"M\" or \"F\")\n",
    "- race (\"A\" = asian; \"W\" = white; \"H\" = hispanic; \"B\" = black; \"N\" = native american; \"O\" = other race)\n",
    "- city\n",
    "- state\n",
    "- signs_of_mental_illness (was person fatally shot showing signs of mental illness, True or False)\n",
    "- threat_level (\"attack\", \"other\", \"undetermined\")\n",
    "- flee (\"Not fleeing\", \"Car\", \"Foot\", \"Other\")\n",
    "- body_camera (was police office wearing a body camera, True or False)\n"
   ]
  },
  {
   "cell_type": "markdown",
   "metadata": {},
   "source": [
    "### Getting Started with Jinja\n",
    "Jinja is a template engine that can be used to take your data and writing structure and output various text files. Often it is used to generate HTML pages for the web, but here we'll use it to generate textual news stories. \n",
    "\n",
    "You should read the [Jinja documentation on templates](http://jinja.pocoo.org/docs/dev/templates/) before getting started. The next cells show some basic examples to get you thinking in the right direction. "
   ]
  },
  {
   "cell_type": "code",
   "execution_count": null,
   "metadata": {
    "collapsed": true
   },
   "outputs": [],
   "source": [
    "import pandas as pd\n",
    "import jinja2 as jj"
   ]
  },
  {
   "cell_type": "code",
   "execution_count": null,
   "metadata": {
    "collapsed": false
   },
   "outputs": [],
   "source": [
    "# A template is a string that when rendered by Jinja outputs some text. \n",
    "# In the next template the double curly brackets indicate there is a variable that will get substituted there. \n",
    "template = jj.Template(\"Hello {{ variable }}.\")\n",
    "\n",
    "# To actually render the template we do this, which will output the final text. See how it substituted the value of the variable?\n",
    "print template.render(variable=\"World\")\n",
    "\n",
    "# I could pass a different value of the variable as a parameter\n",
    "print template.render(variable=\"Professor Diakopoulos\")"
   ]
  },
  {
   "cell_type": "markdown",
   "metadata": {},
   "source": [
    "**Filters & Synsets**  \n",
    "Jinja also has the concept of filters, which modify the variables before they are rendered. They are indicated with the pipe symbol \"|\" followed by the name of the filter in the template string. The set of possible filters is listed [here in the documentation](http://jinja.pocoo.org/docs/dev/templates/#builtin-filters). Filters that may be useful for this assignment include:\n",
    "- round (for rounding off numbers)\n",
    "- random (for randomly selecting a value from a list variable)\n",
    "- title (for converting to title case, e.g. for the start of a sentence)"
   ]
  },
  {
   "cell_type": "code",
   "execution_count": null,
   "metadata": {
    "collapsed": false
   },
   "outputs": [],
   "source": [
    "# To apply a filter that lower cases the text in the variable I can add \"| lower\" to the template. See how even though the variable is in capital case, the filter converts it to lowercase when rendered?\n",
    "template = jj.Template(\"Hello {{ variable | lower }}.\")\n",
    "print template.render(variable=\"Professor Diakopoulos\")"
   ]
  },
  {
   "cell_type": "code",
   "execution_count": null,
   "metadata": {
    "collapsed": false
   },
   "outputs": [],
   "source": [
    "# We could use a filter to randomly select from a synset that we author. Note that each time you run this code it may output a different random selection from the synset. \n",
    "synset = [\"Prof\", \"Dr.\", \"Professor\"]\n",
    "template = jj.Template(\"Hello {{ variable_title | random }} {{ variable_name }}.\")\n",
    "print template.render(variable_title=synset, variable_name=\"Diakopoulos\")"
   ]
  },
  {
   "cell_type": "markdown",
   "metadata": {},
   "source": [
    "**Conditionals **  \n",
    "You'll most likely need \"if\" statements in order to output different types of text based on different values."
   ]
  },
  {
   "cell_type": "code",
   "execution_count": null,
   "metadata": {
    "collapsed": false
   },
   "outputs": [],
   "source": [
    "# Note the template string is spread across multiple lines only to make it easier to read. As a result the \"\\\" character is added to the end of a line so that python knows the same variable continues on to the next line. To make a multi-line string we use a triple quote at the beginning and ending of the string. \n",
    "template_string = \"\"\"Today there was a \\\n",
    "{% if earthquake_size <= 3.0 %}\\\n",
    "small\\\n",
    "{% elif earthquake_size <= 5 and earthquake_size > 3.0 %}\\\n",
    "medium\\\n",
    "{% else %}\\\n",
    "large\\\n",
    "{% endif %}\\\n",
    " size earthquake. \\n\n",
    "It had a magnitude of {{ earthquake_size }}.\"\"\"\n",
    "\n",
    "template = jj.Template(template_string)\n",
    "print template.render(earthquake_size = 4.0)"
   ]
  },
  {
   "cell_type": "markdown",
   "metadata": {},
   "source": [
    "### Test Function\n",
    "The following `write_story` function takes as a parameter a row of data from a dataframe. For ease of testing (and grading), implement the `write_story` function so that it returns the story you've created the given row of data. "
   ]
  },
  {
   "cell_type": "code",
   "execution_count": null,
   "metadata": {
    "collapsed": false
   },
   "outputs": [],
   "source": [
    "def write_story(row):\n",
    "    template = jj.Template(\"{{ variables.name }} was fatally shot.\") # use \".column_name\" to access the column of data\n",
    "    return template.render(variables = row)\n",
    "\n",
    "df = pd.read_csv(\"fatal-police-shootings-2015-16.csv\")\n",
    "row_num = 5 # change this value to test with a different row of data\n",
    "row_as_dict = df.iloc[row_num].to_dict()\n",
    "print row_as_dict, \"\\n\"\n",
    "print write_story(row_as_dict)"
   ]
  }
 ],
 "metadata": {
  "anaconda-cloud": {},
  "kernelspec": {
   "display_name": "Python [Root]",
   "language": "python",
   "name": "Python [Root]"
  },
  "language_info": {
   "codemirror_mode": {
    "name": "ipython",
    "version": 2
   },
   "file_extension": ".py",
   "mimetype": "text/x-python",
   "name": "python",
   "nbconvert_exporter": "python",
   "pygments_lexer": "ipython2",
   "version": "2.7.12"
  }
 },
 "nbformat": 4,
 "nbformat_minor": 0
}
