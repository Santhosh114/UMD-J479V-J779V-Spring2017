{
 "cells": [
  {
   "cell_type": "markdown",
   "metadata": {
    "collapsed": true
   },
   "source": [
    "# Problem Set 2\n",
    "In this homework you'll collect some article data from the [NYT API](http://developer.nytimes.com/) and then enrich those articles with their share counts using the [Facebook Graph API](https://developers.facebook.com/docs/graph-api). \n",
    "\n",
    "Now would be a good time to sign up with both of those APIs to get registration keys. \n",
    "\n",
    "Please review Tutorial #2 before undertaking this problem set. "
   ]
  },
  {
   "cell_type": "code",
   "execution_count": null,
   "metadata": {
    "collapsed": true
   },
   "outputs": [],
   "source": [
    "# Here are some imports that you'll need\n",
    "import pandas as pd\n",
    "import requests, json \n",
    "import math"
   ]
  },
  {
   "cell_type": "markdown",
   "metadata": {},
   "source": [
    "### 1. Collect NYT Article Data\n",
    "Using the NYT [Article Search API](http://developer.nytimes.com/article_search_v2.json) collect all NYT articles that mention \"Donald Trump\" from Novemer 7, 2016 to November 9, 2016 (that's from one day before to one day after election day). Output the complete dataframe of 675 articles to a .csv file called `trump_articles.csv`.\n",
    "\n",
    "*(HINT: you will need to adapt the code from the tutorial - it won't be exactly the same and you should be sure to consult the documentation carefully - but it basically follows the same steps.)*"
   ]
  },
  {
   "cell_type": "code",
   "execution_count": null,
   "metadata": {
    "collapsed": true
   },
   "outputs": [],
   "source": []
  },
  {
   "cell_type": "markdown",
   "metadata": {},
   "source": [
    "### 2. What were the 5 sections in which these articles were most frequently published?"
   ]
  },
  {
   "cell_type": "code",
   "execution_count": null,
   "metadata": {
    "collapsed": true
   },
   "outputs": [],
   "source": []
  },
  {
   "cell_type": "markdown",
   "metadata": {},
   "source": [
    "### 3. What was the average word count of articles before election day compared to after election day?\n",
    "*Hint*: Consider using the [to_datetime](http://pandas.pydata.org/pandas-docs/stable/generated/pandas.to_datetime.html) pandas function to be able to filter dates."
   ]
  },
  {
   "cell_type": "code",
   "execution_count": null,
   "metadata": {
    "collapsed": true
   },
   "outputs": [],
   "source": []
  },
  {
   "cell_type": "markdown",
   "metadata": {},
   "source": [
    "### 4. Among all the articles collected what were the titles and urls for the top five based on the number of Facebook shares?\n",
    "To get the number of facebook shares you can use the following API URL from facebook: \"http://graph.facebook.com/v2.8/\" and pass it a parameter called `id` that is set to the URL of the article you want share information about. You ALSO need to pass a parameter called `access_token` that is an access token that you generate using the instructions [here](https://developers.facebook.com/docs/graph-api/overview) under the section \"Generate a Basic User Access Token\". NOTE: this token will expire after some time (a few hours) and you may need to generate another one in order to continue after a break. \n",
    "\n",
    "*Hint* In Tutorial 1 there's an example using the `apply()` function, but you'll need to tweak things after looking at the [documentation](http://pandas.pydata.org/pandas-docs/stable/generated/pandas.DataFrame.apply.html). \n",
    "\n",
    "**Be sure to include a bit of sleep time in between API calls**"
   ]
  },
  {
   "cell_type": "code",
   "execution_count": null,
   "metadata": {
    "collapsed": false
   },
   "outputs": [],
   "source": [
    "# Add your token below to test how the API should work with a test URL\n",
    "url = 'https://graph.facebook.com/v2.8/'\n",
    "token = '' # <--- Enter your token here\n",
    "test_url = 'http://www.nytimes.com/2016/11/10/opinion/president-donald-trump.html'\n",
    "api_response = requests.get(url, params={\"id\": test_url, \"access_token\": token})\n",
    "api_response.json()"
   ]
  },
  {
   "cell_type": "code",
   "execution_count": null,
   "metadata": {
    "collapsed": true
   },
   "outputs": [],
   "source": []
  }
 ],
 "metadata": {
  "kernelspec": {
   "display_name": "Python [Root]",
   "language": "python",
   "name": "Python [Root]"
  },
  "language_info": {
   "codemirror_mode": {
    "name": "ipython",
    "version": 2
   },
   "file_extension": ".py",
   "mimetype": "text/x-python",
   "name": "python",
   "nbconvert_exporter": "python",
   "pygments_lexer": "ipython2",
   "version": "2.7.12"
  }
 },
 "nbformat": 4,
 "nbformat_minor": 0
}
