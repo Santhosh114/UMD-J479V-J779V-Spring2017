{
 "cells": [
  {
   "cell_type": "markdown",
   "metadata": {},
   "source": [
    "# Assignment 2 - Reproducible Data Analysis of College Rankings\n",
    "\n",
    "This skeleton notebook lays out the various questions and tasks that you need to undertake.\n",
    "\n",
    "Essential links:\n",
    "- College Scorecard: https://collegescorecard.ed.gov/\n",
    "- College Scorecard Data: https://collegescorecard.ed.gov/data/ (Use the data linked as \"Most Recent Data\" under \"Featured Downloads\")\n",
    "- Full data documentation: https://collegescorecard.ed.gov/assets/FullDataDocumentation.pdf (**Be sure to read this carefully as it defines what the columns mean**)\n",
    "- Data dictionary: https://collegescorecard.ed.gov/assets/CollegeScorecardDataDictionary.xlsx (Definitions of abbreviations, variable names, possible values for each variable, etc.)\n",
    "\n",
    "Additional links:\n",
    "- Some background context on the college scorecard: http://www.nytimes.com/2015/09/13/us/with-website-to-research-colleges-obama-abandons-ranking-system.html\n",
    "- College Scorecard StackExchange: http://opendata.stackexchange.com/questions/tagged/collegescorecard\n"
   ]
  },
  {
   "cell_type": "code",
   "execution_count": 1,
   "metadata": {
    "collapsed": true
   },
   "outputs": [],
   "source": [
    "# Import libraries\n",
    "import pandas as pd\n",
    "import numpy as np\n",
    "import matplotlib\n",
    "import matplotlib.pyplot as plt\n",
    "\n",
    "# Makes it so that you can scroll horizontally to see all columns of an output DataFrame\n",
    "pd.set_option('display.max_columns', None)\n",
    "\n",
    "# This magic function allows you to see the charts directly within the notebook. \n",
    "%matplotlib inline\n",
    "\n",
    "# This command will make the plots more attractive by adopting the commone style of ggplot\n",
    "matplotlib.style.use(\"ggplot\")"
   ]
  },
  {
   "cell_type": "markdown",
   "metadata": {},
   "source": [
    "### 1. What percentage of undergraduate degree-seeking students attend \"private for-profit\" schools?"
   ]
  },
  {
   "cell_type": "code",
   "execution_count": null,
   "metadata": {
    "collapsed": true
   },
   "outputs": [],
   "source": []
  },
  {
   "cell_type": "markdown",
   "metadata": {},
   "source": [
    "### 2. In comparing predominently four-year \"public\", \"private non-profit\", and \"private for-profit\" schools which type of school has the highest median completion rate for students? Create a bar chart that shows the comparison (be sure to use appropriately labeled axes, tick marks, title, and colors). \n",
    "Note: Define completion rate as those students completing within 150% of the expected time for completion. "
   ]
  },
  {
   "cell_type": "code",
   "execution_count": null,
   "metadata": {
    "collapsed": true
   },
   "outputs": [],
   "source": []
  },
  {
   "cell_type": "markdown",
   "metadata": {},
   "source": [
    "### 3. Among predominently four-year schools (i.e. bachelor's degree granting), what is the median debt of graduates in dollars? Do men or women typically have higher median debt and by how much?\n",
    "Hint: You will need to do some filtering away of rows that are not \"PrivacySuppressed\" otherwise you won't be able to calculate the median value"
   ]
  },
  {
   "cell_type": "code",
   "execution_count": null,
   "metadata": {
    "collapsed": true
   },
   "outputs": [],
   "source": []
  },
  {
   "cell_type": "markdown",
   "metadata": {},
   "source": [
    "### 4. How do predominently four-year schools compare to predominently two-year schools in terms of the percentage of students who are in default of their loan within three years of graduation? Amongst all four-year schools which school had the highest percentage of such students?\n"
   ]
  },
  {
   "cell_type": "code",
   "execution_count": null,
   "metadata": {
    "collapsed": true
   },
   "outputs": [],
   "source": []
  },
  {
   "cell_type": "markdown",
   "metadata": {},
   "source": [
    "### 5. Create two histogram charts in order to compare the distribution of annual cost of attendance for four-year schools and two-year schools (be sure to include appropriate axes, labels, and titles on the charts)."
   ]
  },
  {
   "cell_type": "code",
   "execution_count": null,
   "metadata": {
    "collapsed": true
   },
   "outputs": [],
   "source": []
  },
  {
   "cell_type": "markdown",
   "metadata": {},
   "source": [
    "### 6. Your Own Data-Driven Insight\n",
    "Come up with a unique insight by analyzing the data in a way that hasn't been considered in the previous questions. You might examine other variables or charting options for instance. **Your insight should be easily stated in a sentence or two, or captured by a chart that could be similarly explained in a caption.** Try to think like a journalist: Spend some time trying to make your insight something that could be a headline for a news article - that could entail some type of surprising result, social inequity, or implication for education policy. Be sure to show your entire code and process for deriving your insight. "
   ]
  },
  {
   "cell_type": "code",
   "execution_count": 51,
   "metadata": {
    "collapsed": true
   },
   "outputs": [],
   "source": [
    "# The answer depends on what you pursue. "
   ]
  },
  {
   "cell_type": "markdown",
   "metadata": {},
   "source": [
    "### 7. Create a Ranking\n",
    "One of the most well-known college rankings is the US News and World Report ranking. They actually publish their entire [methodology](http://www.usnews.com/education/best-colleges/articles/how-us-news-calculated-the-rankings), including the data they use and how it's weighted in arriving at the final rankings. \n",
    "\n",
    "Here you'll create your own educational ranking by combining and weighting a subset of the College Scorecard data. The three pieces of data (and their weightings) you should use include: income 10 years after entry (50% weight, higher is better), average net price (25% weight, lower is better), % who graduate in 6 years (25% weight, higher is better). Unlike the US News ranking, this ranking clearly privileges money (i.e., How well off are graduates?).\n",
    "\n",
    "Be sure to print out the full top 100 ranking. What number position does UMD, College Park have on this ranking? "
   ]
  },
  {
   "cell_type": "code",
   "execution_count": null,
   "metadata": {
    "collapsed": true
   },
   "outputs": [],
   "source": []
  },
  {
   "cell_type": "markdown",
   "metadata": {
    "collapsed": true
   },
   "source": [
    "### EXTRA CREDIT (worth up to 5 points). If you were to systematically manipulate the weights on the ranking from the last question, what's the highest possible position in the ranking that UMD could take? Which of the 3 factors is most heavily weighted when UMD takes that optimal position?"
   ]
  },
  {
   "cell_type": "code",
   "execution_count": null,
   "metadata": {
    "collapsed": true
   },
   "outputs": [],
   "source": []
  }
 ],
 "metadata": {
  "anaconda-cloud": {},
  "kernelspec": {
   "display_name": "Python 2",
   "language": "python",
   "name": "python2"
  },
  "language_info": {
   "codemirror_mode": {
    "name": "ipython",
    "version": 2
   },
   "file_extension": ".py",
   "mimetype": "text/x-python",
   "name": "python",
   "nbconvert_exporter": "python",
   "pygments_lexer": "ipython2",
   "version": "2.7.13"
  }
 },
 "nbformat": 4,
 "nbformat_minor": 0
}
